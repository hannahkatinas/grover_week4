{
 "cells": [
  {
   "cell_type": "code",
   "execution_count": null,
   "id": "d19323d0-46ac-4289-99a8-bc0c959fe1d0",
   "metadata": {
    "id": "18771a3d-0dfa-4c96-8d1e-f01f1458c271",
    "tags": []
   },
   "outputs": [],
   "source": [
    "print (“hello world. This is notebook 2”)"
   ]
  }
 ],
 "metadata": {
  "kernelspec": {
   "display_name": "Python 3.9",
   "language": "python",
   "name": "python3"
  },
  "language_info": {
   "codemirror_mode": {
    "name": "ipython",
    "version": 3
   },
   "file_extension": ".py",
   "mimetype": "text/x-python",
   "name": "python",
   "nbconvert_exporter": "python",
   "pygments_lexer": "ipython3",
   "version": "3.9.7"
  }
 },
 "nbformat": 4,
 "nbformat_minor": 5
}
