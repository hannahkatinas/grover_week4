{
 "cells": [
  {
   "cell_type": "code",
   "execution_count": null,
   "id": "2f2ae6bd-dfec-44ef-a4c3-d48bcd63eb07",
   "metadata": {
    "id": "a7648718-06e6-4f9b-8777-c93c2f9a8d9a",
    "tags": []
   },
   "outputs": [],
   "source": [
    "print (“hello world. This is notebook 1”)"
   ]
  }
 ],
 "metadata": {
  "kernelspec": {
   "display_name": "Python 3.9",
   "language": "python",
   "name": "python3"
  },
  "language_info": {
   "codemirror_mode": {
    "name": "ipython",
    "version": 3
   },
   "file_extension": ".py",
   "mimetype": "text/x-python",
   "name": "python",
   "nbconvert_exporter": "python",
   "pygments_lexer": "ipython3",
   "version": "3.9.7"
  }
 },
 "nbformat": 4,
 "nbformat_minor": 5
}
