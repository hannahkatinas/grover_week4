{
 "cells": [
  {
   "cell_type": "code",
   "execution_count": 2,
   "id": "2f2ae6bd-dfec-44ef-a4c3-d48bcd63eb07",
   "metadata": {
    "id": "a7648718-06e6-4f9b-8777-c93c2f9a8d9a",
    "tags": []
   },
   "outputs": [
    {
     "name": "stdout",
     "output_type": "stream",
     "text": [
      "hello world. This is notebook 1\n"
     ]
    }
   ],
   "source": [
    "print ('hello world. This is notebook 1')"
   ]
  },
  {
   "cell_type": "code",
   "execution_count": 3,
   "id": "4601d932-379c-4fe2-9a4d-0b6ac0cd7ffb",
   "metadata": {
    "id": "4601d932-379c-4fe2-9a4d-0b6ac0cd7ffb",
    "tags": []
   },
   "outputs": [
    {
     "name": "stdout",
     "output_type": "stream",
     "text": [
      "this notebook was changed by a collaborator\n"
     ]
    }
   ],
   "source": [
    "print('this notebook was changed by a collaborator')"
   ]
  },
  {
   "cell_type": "code",
   "execution_count": null,
   "id": "3e0aca7f-7109-4399-9191-fafb7601a2a5",
   "metadata": {
    "id": "3e0aca7f-7109-4399-9191-fafb7601a2a5"
   },
   "outputs": [],
   "source": []
  }
 ],
 "metadata": {
  "kernelspec": {
   "display_name": "Python 3.9",
   "language": "python",
   "name": "python3"
  },
  "language_info": {
   "codemirror_mode": {
    "name": "ipython",
    "version": 3
   },
   "file_extension": ".py",
   "mimetype": "text/x-python",
   "name": "python",
   "nbconvert_exporter": "python",
   "pygments_lexer": "ipython3",
   "version": "3.9.7"
  }
 },
 "nbformat": 4,
 "nbformat_minor": 5
}
